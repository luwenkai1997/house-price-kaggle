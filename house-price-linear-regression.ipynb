{
 "cells": [
  {
   "metadata": {},
   "cell_type": "markdown",
   "source": "## House Price Prediction",
   "id": "d2876b13564fc381"
  },
  {
   "metadata": {},
   "cell_type": "markdown",
   "source": [
    "### Public Scores: \n",
    "- Linear Regression: 0.543\n",
    "- Decision Tree: 0.216\n",
    "- Random Forest: 0.150\n",
    "- Gradient Boosting Machine: 0.138\n",
    "- Extreme Gradient Boosting: 0.142\n",
    "- Neural Network: 0.634\n",
    "- Stacking Techniques: 0.142"
   ],
   "id": "a4b2cd2240910570"
  },
  {
   "metadata": {
    "ExecuteTime": {
     "end_time": "2024-11-14T04:25:51.658490Z",
     "start_time": "2024-11-14T04:25:51.652796Z"
    }
   },
   "cell_type": "code",
   "source": "#!pip install pandas numpy scikit-learn",
   "id": "85793457eb70463d",
   "outputs": [],
   "execution_count": 22
  },
  {
   "metadata": {
    "ExecuteTime": {
     "end_time": "2024-11-14T04:18:22.612770Z",
     "start_time": "2024-11-14T04:17:28.878509Z"
    }
   },
   "cell_type": "code",
   "source": [
    "# Import necessary libraries\n",
    "import pandas as pd\n",
    "import numpy as np\n",
    "from sklearn.linear_model import LinearRegression\n",
    "from sklearn.model_selection import train_test_split, cross_val_score\n",
    "from sklearn.preprocessing import StandardScaler, LabelEncoder\n",
    "from sklearn.metrics import mean_squared_error"
   ],
   "id": "8dfec177ab5f4aa0",
   "outputs": [],
   "execution_count": 4
  },
  {
   "metadata": {
    "ExecuteTime": {
     "end_time": "2024-11-14T04:24:01.097410Z",
     "start_time": "2024-11-14T04:24:01.038898Z"
    }
   },
   "cell_type": "code",
   "source": [
    "# Load data\n",
    "train = pd.read_csv('train.csv')\n",
    "test = pd.read_csv('test.csv')\n",
    "\n",
    "# Target variable\n",
    "y = train['SalePrice']\n",
    "\n",
    "# Drop irrelevant features\n",
    "train = train.drop(['Id', 'SalePrice'], axis=1)\n",
    "test_ids = test['Id']\n",
    "test = test.drop(['Id'], axis=1)"
   ],
   "id": "3589f42062d79313",
   "outputs": [],
   "execution_count": 14
  },
  {
   "metadata": {
    "ExecuteTime": {
     "end_time": "2024-11-14T04:24:02.444208Z",
     "start_time": "2024-11-14T04:24:02.381630Z"
    }
   },
   "cell_type": "code",
   "source": [
    "# Handle missing values (simple strategy: fill with median for numerical, mode for categorical)\n",
    "for col in train.columns:\n",
    "    if train[col].isnull().any() or test[col].isnull().any():\n",
    "        if train[col].dtype == \"object\":\n",
    "            # Fill categorical missing values with \"Missing\"\n",
    "            train[col].fillna(\"Missing\", inplace=True)\n",
    "            test[col].fillna(\"Missing\", inplace=True)\n",
    "        else:\n",
    "            # Fill numerical missing values with the median\n",
    "            median = train[col].median()\n",
    "            train[col].fillna(median, inplace=True)\n",
    "            test[col].fillna(median, inplace=True)"
   ],
   "id": "37d3288f5921dc7d",
   "outputs": [],
   "execution_count": 15
  },
  {
   "metadata": {
    "ExecuteTime": {
     "end_time": "2024-11-14T04:24:03.698398Z",
     "start_time": "2024-11-14T04:24:03.612579Z"
    }
   },
   "cell_type": "code",
   "source": [
    "# Encode categorical variables using Label Encoding\n",
    "for col in train.select_dtypes(include=['object']).columns:\n",
    "    le = LabelEncoder()\n",
    "    combined = pd.concat([train[col], test[col]], axis=0)  # Combine to ensure consistency\n",
    "    le.fit(combined)\n",
    "    train[col] = le.transform(train[col])\n",
    "    test[col] = le.transform(test[col])"
   ],
   "id": "82605b96697205d3",
   "outputs": [],
   "execution_count": 16
  },
  {
   "metadata": {
    "ExecuteTime": {
     "end_time": "2024-11-14T04:24:04.586982Z",
     "start_time": "2024-11-14T04:24:04.564341Z"
    }
   },
   "cell_type": "code",
   "source": [
    "# Feature Scaling\n",
    "scaler = StandardScaler()\n",
    "train = scaler.fit_transform(train)\n",
    "test = scaler.transform(test)"
   ],
   "id": "c6a6ffc7502e2efd",
   "outputs": [],
   "execution_count": 17
  },
  {
   "metadata": {
    "ExecuteTime": {
     "end_time": "2024-11-14T04:24:05.380276Z",
     "start_time": "2024-11-14T04:24:05.373908Z"
    }
   },
   "cell_type": "code",
   "source": [
    "# Train/test split\n",
    "X_train, X_valid, y_train, y_valid = train_test_split(train, y, test_size=0.2, random_state=42)"
   ],
   "id": "3cbf74c1ecab4056",
   "outputs": [],
   "execution_count": 18
  },
  {
   "metadata": {},
   "cell_type": "markdown",
   "source": "### Linear Regression",
   "id": "36d76d0190dcb4f0"
  },
  {
   "metadata": {
    "ExecuteTime": {
     "end_time": "2024-11-14T04:24:06.094662Z",
     "start_time": "2024-11-14T04:24:06.080134Z"
    }
   },
   "cell_type": "code",
   "source": [
    "# Train the Linear Regression model\n",
    "model = LinearRegression()\n",
    "model.fit(X_train, y_train)"
   ],
   "id": "42d31a2873b7bfdb",
   "outputs": [
    {
     "data": {
      "text/plain": [
       "LinearRegression()"
      ],
      "text/html": [
       "<style>#sk-container-id-2 {color: black;}#sk-container-id-2 pre{padding: 0;}#sk-container-id-2 div.sk-toggleable {background-color: white;}#sk-container-id-2 label.sk-toggleable__label {cursor: pointer;display: block;width: 100%;margin-bottom: 0;padding: 0.3em;box-sizing: border-box;text-align: center;}#sk-container-id-2 label.sk-toggleable__label-arrow:before {content: \"▸\";float: left;margin-right: 0.25em;color: #696969;}#sk-container-id-2 label.sk-toggleable__label-arrow:hover:before {color: black;}#sk-container-id-2 div.sk-estimator:hover label.sk-toggleable__label-arrow:before {color: black;}#sk-container-id-2 div.sk-toggleable__content {max-height: 0;max-width: 0;overflow: hidden;text-align: left;background-color: #f0f8ff;}#sk-container-id-2 div.sk-toggleable__content pre {margin: 0.2em;color: black;border-radius: 0.25em;background-color: #f0f8ff;}#sk-container-id-2 input.sk-toggleable__control:checked~div.sk-toggleable__content {max-height: 200px;max-width: 100%;overflow: auto;}#sk-container-id-2 input.sk-toggleable__control:checked~label.sk-toggleable__label-arrow:before {content: \"▾\";}#sk-container-id-2 div.sk-estimator input.sk-toggleable__control:checked~label.sk-toggleable__label {background-color: #d4ebff;}#sk-container-id-2 div.sk-label input.sk-toggleable__control:checked~label.sk-toggleable__label {background-color: #d4ebff;}#sk-container-id-2 input.sk-hidden--visually {border: 0;clip: rect(1px 1px 1px 1px);clip: rect(1px, 1px, 1px, 1px);height: 1px;margin: -1px;overflow: hidden;padding: 0;position: absolute;width: 1px;}#sk-container-id-2 div.sk-estimator {font-family: monospace;background-color: #f0f8ff;border: 1px dotted black;border-radius: 0.25em;box-sizing: border-box;margin-bottom: 0.5em;}#sk-container-id-2 div.sk-estimator:hover {background-color: #d4ebff;}#sk-container-id-2 div.sk-parallel-item::after {content: \"\";width: 100%;border-bottom: 1px solid gray;flex-grow: 1;}#sk-container-id-2 div.sk-label:hover label.sk-toggleable__label {background-color: #d4ebff;}#sk-container-id-2 div.sk-serial::before {content: \"\";position: absolute;border-left: 1px solid gray;box-sizing: border-box;top: 0;bottom: 0;left: 50%;z-index: 0;}#sk-container-id-2 div.sk-serial {display: flex;flex-direction: column;align-items: center;background-color: white;padding-right: 0.2em;padding-left: 0.2em;position: relative;}#sk-container-id-2 div.sk-item {position: relative;z-index: 1;}#sk-container-id-2 div.sk-parallel {display: flex;align-items: stretch;justify-content: center;background-color: white;position: relative;}#sk-container-id-2 div.sk-item::before, #sk-container-id-2 div.sk-parallel-item::before {content: \"\";position: absolute;border-left: 1px solid gray;box-sizing: border-box;top: 0;bottom: 0;left: 50%;z-index: -1;}#sk-container-id-2 div.sk-parallel-item {display: flex;flex-direction: column;z-index: 1;position: relative;background-color: white;}#sk-container-id-2 div.sk-parallel-item:first-child::after {align-self: flex-end;width: 50%;}#sk-container-id-2 div.sk-parallel-item:last-child::after {align-self: flex-start;width: 50%;}#sk-container-id-2 div.sk-parallel-item:only-child::after {width: 0;}#sk-container-id-2 div.sk-dashed-wrapped {border: 1px dashed gray;margin: 0 0.4em 0.5em 0.4em;box-sizing: border-box;padding-bottom: 0.4em;background-color: white;}#sk-container-id-2 div.sk-label label {font-family: monospace;font-weight: bold;display: inline-block;line-height: 1.2em;}#sk-container-id-2 div.sk-label-container {text-align: center;}#sk-container-id-2 div.sk-container {/* jupyter's `normalize.less` sets `[hidden] { display: none; }` but bootstrap.min.css set `[hidden] { display: none !important; }` so we also need the `!important` here to be able to override the default hidden behavior on the sphinx rendered scikit-learn.org. See: https://github.com/scikit-learn/scikit-learn/issues/21755 */display: inline-block !important;position: relative;}#sk-container-id-2 div.sk-text-repr-fallback {display: none;}</style><div id=\"sk-container-id-2\" class=\"sk-top-container\"><div class=\"sk-text-repr-fallback\"><pre>LinearRegression()</pre><b>In a Jupyter environment, please rerun this cell to show the HTML representation or trust the notebook. <br />On GitHub, the HTML representation is unable to render, please try loading this page with nbviewer.org.</b></div><div class=\"sk-container\" hidden><div class=\"sk-item\"><div class=\"sk-estimator sk-toggleable\"><input class=\"sk-toggleable__control sk-hidden--visually\" id=\"sk-estimator-id-2\" type=\"checkbox\" checked><label for=\"sk-estimator-id-2\" class=\"sk-toggleable__label sk-toggleable__label-arrow\">LinearRegression</label><div class=\"sk-toggleable__content\"><pre>LinearRegression()</pre></div></div></div></div></div>"
      ]
     },
     "execution_count": 19,
     "metadata": {},
     "output_type": "execute_result"
    }
   ],
   "execution_count": 19
  },
  {
   "metadata": {
    "ExecuteTime": {
     "end_time": "2024-11-14T04:24:07.132379Z",
     "start_time": "2024-11-14T04:24:07.115654Z"
    }
   },
   "cell_type": "code",
   "source": [
    "# Predict on the validation set and calculate RMSE\n",
    "y_pred = model.predict(X_valid)\n",
    "rmse = np.sqrt(mean_squared_error(y_valid, y_pred))\n",
    "print(\"Validation RMSE:\", rmse)\n",
    "\n",
    "# Train on the full dataset and predict on the test set\n",
    "model.fit(train, y)\n",
    "test_predictions = model.predict(test)"
   ],
   "id": "a30a66ef267deb32",
   "outputs": [
    {
     "name": "stdout",
     "output_type": "stream",
     "text": [
      "Validation RMSE: 34806.054616981295\n"
     ]
    }
   ],
   "execution_count": 20
  },
  {
   "metadata": {
    "ExecuteTime": {
     "end_time": "2024-11-14T04:26:20.486898Z",
     "start_time": "2024-11-14T04:26:20.474962Z"
    }
   },
   "cell_type": "code",
   "source": [
    "# Prepare the submission file\n",
    "submission = pd.DataFrame({\n",
    "    'Id': test_ids,\n",
    "    'SalePrice': test_predictions\n",
    "})\n",
    "submission.to_csv('submission_linear_regression.csv', index=False)\n"
   ],
   "id": "766553f3a49c8468",
   "outputs": [],
   "execution_count": 23
  },
  {
   "metadata": {},
   "cell_type": "markdown",
   "source": "### Decision Tree",
   "id": "ac57e5b677f90b04"
  },
  {
   "metadata": {
    "ExecuteTime": {
     "end_time": "2024-11-14T04:30:10.880389Z",
     "start_time": "2024-11-14T04:30:10.752978Z"
    }
   },
   "cell_type": "code",
   "source": [
    "from sklearn.tree import DecisionTreeRegressor\n",
    "\n",
    "model = DecisionTreeRegressor(max_depth=5)  # Limit depth to prevent overfitting\n",
    "model.fit(X_train, y_train)\n",
    "test_predictions = model.predict(test)\n",
    "\n",
    "# Prepare the submission file\n",
    "submission = pd.DataFrame({\n",
    "    'Id': test_ids,\n",
    "    'SalePrice': test_predictions\n",
    "})\n",
    "submission.to_csv('submission_decision_tree.csv', index=False)"
   ],
   "id": "92364e2079d10c07",
   "outputs": [],
   "execution_count": 24
  },
  {
   "metadata": {},
   "cell_type": "markdown",
   "source": "### Random Forest",
   "id": "5857ab6fba695651"
  },
  {
   "metadata": {
    "ExecuteTime": {
     "end_time": "2024-11-14T04:33:24.284211Z",
     "start_time": "2024-11-14T04:33:22.656757Z"
    }
   },
   "cell_type": "code",
   "source": [
    "from sklearn.ensemble import RandomForestRegressor\n",
    "\n",
    "model = RandomForestRegressor(n_estimators=100, max_depth=10, random_state=42)\n",
    "model.fit(X_train, y_train)\n",
    "test_predictions = model.predict(test)\n",
    "\n",
    "# Prepare the submission file\n",
    "submission = pd.DataFrame({\n",
    "    'Id': test_ids,\n",
    "    'SalePrice': test_predictions\n",
    "})\n",
    "submission.to_csv('submission_random_forest.csv', index=False)"
   ],
   "id": "c1740a7136b47331",
   "outputs": [],
   "execution_count": 27
  },
  {
   "metadata": {},
   "cell_type": "markdown",
   "source": "### Gradient Boosting Machines (GBM)",
   "id": "975f73fe21919df7"
  },
  {
   "metadata": {
    "ExecuteTime": {
     "end_time": "2024-11-14T04:33:38.384315Z",
     "start_time": "2024-11-14T04:33:37.674330Z"
    }
   },
   "cell_type": "code",
   "source": [
    "from sklearn.ensemble import GradientBoostingRegressor\n",
    "\n",
    "model = GradientBoostingRegressor(n_estimators=100, learning_rate=0.1, max_depth=3, random_state=42)\n",
    "model.fit(X_train, y_train)\n",
    "test_predictions = model.predict(test)\n",
    "\n",
    "# Prepare the submission file\n",
    "submission = pd.DataFrame({\n",
    "    'Id': test_ids,\n",
    "    'SalePrice': test_predictions\n",
    "})\n",
    "submission.to_csv('submission_gbm.csv', index=False)"
   ],
   "id": "c747efad6991e071",
   "outputs": [],
   "execution_count": 28
  },
  {
   "metadata": {},
   "cell_type": "markdown",
   "source": "### XGBoost (Extreme Gradient Boosting)",
   "id": "79c93bbf8eb82676"
  },
  {
   "metadata": {
    "ExecuteTime": {
     "end_time": "2024-11-14T04:34:36.543690Z",
     "start_time": "2024-11-14T04:34:36.425459Z"
    }
   },
   "cell_type": "code",
   "source": [
    "#!pip install xgboost\n",
    "from xgboost import XGBRegressor\n",
    "\n",
    "model = XGBRegressor(n_estimators=100, learning_rate=0.05, max_depth=4, random_state=42)\n",
    "model.fit(X_train, y_train)\n",
    "test_predictions = model.predict(test)\n",
    "\n",
    "# Prepare the submission file\n",
    "submission = pd.DataFrame({\n",
    "    'Id': test_ids,\n",
    "    'SalePrice': test_predictions\n",
    "})\n",
    "submission.to_csv('submission_xgb.csv', index=False)"
   ],
   "id": "cfa44886d7c51e1b",
   "outputs": [],
   "execution_count": 30
  },
  {
   "metadata": {},
   "cell_type": "markdown",
   "source": "### Neural Networks",
   "id": "485d21154b6f4b2d"
  },
  {
   "metadata": {
    "ExecuteTime": {
     "end_time": "2024-11-14T04:45:17.567430Z",
     "start_time": "2024-11-14T04:45:03.228380Z"
    }
   },
   "cell_type": "code",
   "source": [
    "#!pip install tensorflow\n",
    "from tensorflow.keras.models import Sequential\n",
    "from tensorflow.keras.layers import Dense\n",
    "\n",
    "model = Sequential([\n",
    "    Dense(64, activation='relu', input_shape=(X_train.shape[1],)),\n",
    "    Dense(32, activation='relu'),\n",
    "    Dense(1)\n",
    "])\n",
    "\n",
    "# y_train = y_train.values.squeeze()\n",
    "\n",
    "model.compile(optimizer='adam', loss='mse')\n",
    "model.fit(X_train, y_train, epochs=100, batch_size=32, validation_split=0.2)\n",
    "test_predictions = model.predict(test).squeeze()\n",
    "\n",
    "# Prepare the submission file\n",
    "submission = pd.DataFrame({\n",
    "    'Id': test_ids,\n",
    "    'SalePrice': test_predictions\n",
    "})\n",
    "submission.to_csv('submission_nn.csv', index=False)\n"
   ],
   "id": "db35806340215c4f",
   "outputs": [
    {
     "name": "stdout",
     "output_type": "stream",
     "text": [
      "Epoch 1/100\n",
      "30/30 [==============================] - 1s 6ms/step - loss: 39146024960.0000 - val_loss: 37840048128.0000\n",
      "Epoch 2/100\n",
      "30/30 [==============================] - 0s 3ms/step - loss: 39142948864.0000 - val_loss: 37835653120.0000\n",
      "Epoch 3/100\n",
      "30/30 [==============================] - 0s 3ms/step - loss: 39135969280.0000 - val_loss: 37825523712.0000\n",
      "Epoch 4/100\n",
      "30/30 [==============================] - 0s 3ms/step - loss: 39120695296.0000 - val_loss: 37805932544.0000\n",
      "Epoch 5/100\n",
      "30/30 [==============================] - 0s 3ms/step - loss: 39093186560.0000 - val_loss: 37770506240.0000\n",
      "Epoch 6/100\n",
      "30/30 [==============================] - 0s 4ms/step - loss: 39044775936.0000 - val_loss: 37711646720.0000\n",
      "Epoch 7/100\n",
      "30/30 [==============================] - 0s 4ms/step - loss: 38969339904.0000 - val_loss: 37624147968.0000\n",
      "Epoch 8/100\n",
      "30/30 [==============================] - 0s 5ms/step - loss: 38860972032.0000 - val_loss: 37503635456.0000\n",
      "Epoch 9/100\n",
      "30/30 [==============================] - 0s 7ms/step - loss: 38714634240.0000 - val_loss: 37344940032.0000\n",
      "Epoch 10/100\n",
      "30/30 [==============================] - 0s 5ms/step - loss: 38526689280.0000 - val_loss: 37139578880.0000\n",
      "Epoch 11/100\n",
      "30/30 [==============================] - 0s 4ms/step - loss: 38285447168.0000 - val_loss: 36888236032.0000\n",
      "Epoch 12/100\n",
      "30/30 [==============================] - 0s 4ms/step - loss: 37994811392.0000 - val_loss: 36582318080.0000\n",
      "Epoch 13/100\n",
      "30/30 [==============================] - 0s 4ms/step - loss: 37640744960.0000 - val_loss: 36218044416.0000\n",
      "Epoch 14/100\n",
      "30/30 [==============================] - 0s 5ms/step - loss: 37231161344.0000 - val_loss: 35813576704.0000\n",
      "Epoch 15/100\n",
      "30/30 [==============================] - 0s 5ms/step - loss: 36780814336.0000 - val_loss: 35338604544.0000\n",
      "Epoch 16/100\n",
      "30/30 [==============================] - 0s 6ms/step - loss: 36255150080.0000 - val_loss: 34821107712.0000\n",
      "Epoch 17/100\n",
      "30/30 [==============================] - 0s 5ms/step - loss: 35682451456.0000 - val_loss: 34232115200.0000\n",
      "Epoch 18/100\n",
      "30/30 [==============================] - 0s 5ms/step - loss: 35037274112.0000 - val_loss: 33593262080.0000\n",
      "Epoch 19/100\n",
      "30/30 [==============================] - 0s 5ms/step - loss: 34322100224.0000 - val_loss: 32889206784.0000\n",
      "Epoch 20/100\n",
      "30/30 [==============================] - 0s 4ms/step - loss: 33565083648.0000 - val_loss: 32124917760.0000\n",
      "Epoch 21/100\n",
      "30/30 [==============================] - 0s 4ms/step - loss: 32727207936.0000 - val_loss: 31326103552.0000\n",
      "Epoch 22/100\n",
      "30/30 [==============================] - 0s 4ms/step - loss: 31858169856.0000 - val_loss: 30460059648.0000\n",
      "Epoch 23/100\n",
      "30/30 [==============================] - 0s 4ms/step - loss: 30942380032.0000 - val_loss: 29548847104.0000\n",
      "Epoch 24/100\n",
      "30/30 [==============================] - 0s 4ms/step - loss: 29973739520.0000 - val_loss: 28604399616.0000\n",
      "Epoch 25/100\n",
      "30/30 [==============================] - 0s 4ms/step - loss: 28960964608.0000 - val_loss: 27616694272.0000\n",
      "Epoch 26/100\n",
      "30/30 [==============================] - 0s 4ms/step - loss: 27914506240.0000 - val_loss: 26592059392.0000\n",
      "Epoch 27/100\n",
      "30/30 [==============================] - 0s 5ms/step - loss: 26823266304.0000 - val_loss: 25552529408.0000\n",
      "Epoch 28/100\n",
      "30/30 [==============================] - 0s 4ms/step - loss: 25726689280.0000 - val_loss: 24506918912.0000\n",
      "Epoch 29/100\n",
      "30/30 [==============================] - 0s 4ms/step - loss: 24610641920.0000 - val_loss: 23409152000.0000\n",
      "Epoch 30/100\n",
      "30/30 [==============================] - 0s 4ms/step - loss: 23496787968.0000 - val_loss: 22352273408.0000\n",
      "Epoch 31/100\n",
      "30/30 [==============================] - 0s 4ms/step - loss: 22391689216.0000 - val_loss: 21304915968.0000\n",
      "Epoch 32/100\n",
      "30/30 [==============================] - 0s 4ms/step - loss: 21302929408.0000 - val_loss: 20248938496.0000\n",
      "Epoch 33/100\n",
      "30/30 [==============================] - 0s 4ms/step - loss: 20242331648.0000 - val_loss: 19233722368.0000\n",
      "Epoch 34/100\n",
      "30/30 [==============================] - 0s 4ms/step - loss: 19217223680.0000 - val_loss: 18244616192.0000\n",
      "Epoch 35/100\n",
      "30/30 [==============================] - 0s 5ms/step - loss: 18217758720.0000 - val_loss: 17296672768.0000\n",
      "Epoch 36/100\n",
      "30/30 [==============================] - 0s 4ms/step - loss: 17247551488.0000 - val_loss: 16410672128.0000\n",
      "Epoch 37/100\n",
      "30/30 [==============================] - 0s 4ms/step - loss: 16355887104.0000 - val_loss: 15550249984.0000\n",
      "Epoch 38/100\n",
      "30/30 [==============================] - 0s 4ms/step - loss: 15502573568.0000 - val_loss: 14739341312.0000\n",
      "Epoch 39/100\n",
      "30/30 [==============================] - 0s 4ms/step - loss: 14695654400.0000 - val_loss: 13985922048.0000\n",
      "Epoch 40/100\n",
      "30/30 [==============================] - 0s 4ms/step - loss: 13952955392.0000 - val_loss: 13269325824.0000\n",
      "Epoch 41/100\n",
      "30/30 [==============================] - 0s 4ms/step - loss: 13251363840.0000 - val_loss: 12638641152.0000\n",
      "Epoch 42/100\n",
      "30/30 [==============================] - 0s 4ms/step - loss: 12639604736.0000 - val_loss: 12020060160.0000\n",
      "Epoch 43/100\n",
      "30/30 [==============================] - 0s 4ms/step - loss: 12130827264.0000 - val_loss: 11624736768.0000\n",
      "Epoch 44/100\n",
      "30/30 [==============================] - 0s 4ms/step - loss: 11660554240.0000 - val_loss: 11149899776.0000\n",
      "Epoch 45/100\n",
      "30/30 [==============================] - 0s 4ms/step - loss: 11188729856.0000 - val_loss: 10698868736.0000\n",
      "Epoch 46/100\n",
      "30/30 [==============================] - 0s 4ms/step - loss: 10763829248.0000 - val_loss: 10287460352.0000\n",
      "Epoch 47/100\n",
      "30/30 [==============================] - 0s 4ms/step - loss: 10369098752.0000 - val_loss: 9936368640.0000\n",
      "Epoch 48/100\n",
      "30/30 [==============================] - 0s 4ms/step - loss: 10021798912.0000 - val_loss: 9600532480.0000\n",
      "Epoch 49/100\n",
      "30/30 [==============================] - 0s 4ms/step - loss: 9702693888.0000 - val_loss: 9296662528.0000\n",
      "Epoch 50/100\n",
      "30/30 [==============================] - 0s 4ms/step - loss: 9413823488.0000 - val_loss: 9013710848.0000\n",
      "Epoch 51/100\n",
      "30/30 [==============================] - 0s 4ms/step - loss: 9150437376.0000 - val_loss: 8756530176.0000\n",
      "Epoch 52/100\n",
      "30/30 [==============================] - 0s 4ms/step - loss: 8901819392.0000 - val_loss: 8541838336.0000\n",
      "Epoch 53/100\n",
      "30/30 [==============================] - 0s 3ms/step - loss: 8682163200.0000 - val_loss: 8329876480.0000\n",
      "Epoch 54/100\n",
      "30/30 [==============================] - 0s 4ms/step - loss: 8474472448.0000 - val_loss: 8128881664.0000\n",
      "Epoch 55/100\n",
      "30/30 [==============================] - 0s 4ms/step - loss: 8283477504.0000 - val_loss: 7954189824.0000\n",
      "Epoch 56/100\n",
      "30/30 [==============================] - 0s 4ms/step - loss: 8105248768.0000 - val_loss: 7786264064.0000\n",
      "Epoch 57/100\n",
      "30/30 [==============================] - 0s 4ms/step - loss: 7937408000.0000 - val_loss: 7624791040.0000\n",
      "Epoch 58/100\n",
      "30/30 [==============================] - 0s 4ms/step - loss: 7778844160.0000 - val_loss: 7468848128.0000\n",
      "Epoch 59/100\n",
      "30/30 [==============================] - 0s 4ms/step - loss: 7623348224.0000 - val_loss: 7330345984.0000\n",
      "Epoch 60/100\n",
      "30/30 [==============================] - 0s 4ms/step - loss: 7479131136.0000 - val_loss: 7194816000.0000\n",
      "Epoch 61/100\n",
      "30/30 [==============================] - 0s 4ms/step - loss: 7339106816.0000 - val_loss: 7056114688.0000\n",
      "Epoch 62/100\n",
      "30/30 [==============================] - 0s 4ms/step - loss: 7204336128.0000 - val_loss: 6931004928.0000\n",
      "Epoch 63/100\n",
      "30/30 [==============================] - 0s 4ms/step - loss: 7074073088.0000 - val_loss: 6800546816.0000\n",
      "Epoch 64/100\n",
      "30/30 [==============================] - 0s 4ms/step - loss: 6946703360.0000 - val_loss: 6681312768.0000\n",
      "Epoch 65/100\n",
      "30/30 [==============================] - 0s 4ms/step - loss: 6828578816.0000 - val_loss: 6564623872.0000\n",
      "Epoch 66/100\n",
      "30/30 [==============================] - 0s 4ms/step - loss: 6709306880.0000 - val_loss: 6453703680.0000\n",
      "Epoch 67/100\n",
      "30/30 [==============================] - 0s 4ms/step - loss: 6596267008.0000 - val_loss: 6352724992.0000\n",
      "Epoch 68/100\n",
      "30/30 [==============================] - 0s 4ms/step - loss: 6482040320.0000 - val_loss: 6248766464.0000\n",
      "Epoch 69/100\n",
      "30/30 [==============================] - 0s 4ms/step - loss: 6373186048.0000 - val_loss: 6143890944.0000\n",
      "Epoch 70/100\n",
      "30/30 [==============================] - 0s 4ms/step - loss: 6268080128.0000 - val_loss: 6045809664.0000\n",
      "Epoch 71/100\n",
      "30/30 [==============================] - 0s 4ms/step - loss: 6166277120.0000 - val_loss: 5945379328.0000\n",
      "Epoch 72/100\n",
      "30/30 [==============================] - 0s 4ms/step - loss: 6063228416.0000 - val_loss: 5849597952.0000\n",
      "Epoch 73/100\n",
      "30/30 [==============================] - 0s 4ms/step - loss: 5962931712.0000 - val_loss: 5756775936.0000\n",
      "Epoch 74/100\n",
      "30/30 [==============================] - 0s 6ms/step - loss: 5869058560.0000 - val_loss: 5666036736.0000\n",
      "Epoch 75/100\n",
      "30/30 [==============================] - 0s 4ms/step - loss: 5776208384.0000 - val_loss: 5579558400.0000\n",
      "Epoch 76/100\n",
      "30/30 [==============================] - 0s 4ms/step - loss: 5686341120.0000 - val_loss: 5494378496.0000\n",
      "Epoch 77/100\n",
      "30/30 [==============================] - 0s 4ms/step - loss: 5596986368.0000 - val_loss: 5411470336.0000\n",
      "Epoch 78/100\n",
      "30/30 [==============================] - 0s 4ms/step - loss: 5513169408.0000 - val_loss: 5334315520.0000\n",
      "Epoch 79/100\n",
      "30/30 [==============================] - 0s 4ms/step - loss: 5433266176.0000 - val_loss: 5254157312.0000\n",
      "Epoch 80/100\n",
      "30/30 [==============================] - 0s 4ms/step - loss: 5360758272.0000 - val_loss: 5177928192.0000\n",
      "Epoch 81/100\n",
      "30/30 [==============================] - 0s 7ms/step - loss: 5273863680.0000 - val_loss: 5104487936.0000\n",
      "Epoch 82/100\n",
      "30/30 [==============================] - 0s 5ms/step - loss: 5193457664.0000 - val_loss: 5029959680.0000\n",
      "Epoch 83/100\n",
      "30/30 [==============================] - 0s 4ms/step - loss: 5116560896.0000 - val_loss: 4956564480.0000\n",
      "Epoch 84/100\n",
      "30/30 [==============================] - 0s 5ms/step - loss: 5049328640.0000 - val_loss: 4889945600.0000\n",
      "Epoch 85/100\n",
      "30/30 [==============================] - 0s 4ms/step - loss: 4973011456.0000 - val_loss: 4821571584.0000\n",
      "Epoch 86/100\n",
      "30/30 [==============================] - 0s 5ms/step - loss: 4903448576.0000 - val_loss: 4759027712.0000\n",
      "Epoch 87/100\n",
      "30/30 [==============================] - 0s 6ms/step - loss: 4836312576.0000 - val_loss: 4695950848.0000\n",
      "Epoch 88/100\n",
      "30/30 [==============================] - 0s 6ms/step - loss: 4769358336.0000 - val_loss: 4634529280.0000\n",
      "Epoch 89/100\n",
      "30/30 [==============================] - 0s 5ms/step - loss: 4710675456.0000 - val_loss: 4572977664.0000\n",
      "Epoch 90/100\n",
      "30/30 [==============================] - 0s 4ms/step - loss: 4647609344.0000 - val_loss: 4519500288.0000\n",
      "Epoch 91/100\n",
      "30/30 [==============================] - 0s 4ms/step - loss: 4587181568.0000 - val_loss: 4461451264.0000\n",
      "Epoch 92/100\n",
      "30/30 [==============================] - 0s 4ms/step - loss: 4531511808.0000 - val_loss: 4405157376.0000\n",
      "Epoch 93/100\n",
      "30/30 [==============================] - 0s 5ms/step - loss: 4474443776.0000 - val_loss: 4354110464.0000\n",
      "Epoch 94/100\n",
      "30/30 [==============================] - 0s 4ms/step - loss: 4418179072.0000 - val_loss: 4302902784.0000\n",
      "Epoch 95/100\n",
      "30/30 [==============================] - 0s 6ms/step - loss: 4363316224.0000 - val_loss: 4254941696.0000\n",
      "Epoch 96/100\n",
      "30/30 [==============================] - 0s 5ms/step - loss: 4309212672.0000 - val_loss: 4202576896.0000\n",
      "Epoch 97/100\n",
      "30/30 [==============================] - 0s 4ms/step - loss: 4258996480.0000 - val_loss: 4159125760.0000\n",
      "Epoch 98/100\n",
      "30/30 [==============================] - 0s 5ms/step - loss: 4211389184.0000 - val_loss: 4112759808.0000\n",
      "Epoch 99/100\n",
      "30/30 [==============================] - 0s 5ms/step - loss: 4164235776.0000 - val_loss: 4065369856.0000\n",
      "Epoch 100/100\n",
      "30/30 [==============================] - 0s 4ms/step - loss: 4114010112.0000 - val_loss: 4021991424.0000\n",
      "46/46 [==============================] - 0s 2ms/step\n"
     ]
    }
   ],
   "execution_count": 36
  },
  {
   "metadata": {},
   "cell_type": "markdown",
   "source": "### Stacking Techniques",
   "id": "5680ff690db4b798"
  },
  {
   "metadata": {
    "ExecuteTime": {
     "end_time": "2024-11-14T04:47:55.670864Z",
     "start_time": "2024-11-14T04:47:48.904282Z"
    }
   },
   "cell_type": "code",
   "source": [
    "from sklearn.ensemble import StackingRegressor\n",
    "\n",
    "estimators = [\n",
    "    ('rf', RandomForestRegressor(n_estimators=50, random_state=42)),\n",
    "    ('gb', GradientBoostingRegressor(n_estimators=50, random_state=42)),\n",
    "    ('xgb', XGBRegressor(n_estimators=50, random_state=42))\n",
    "]\n",
    "model = StackingRegressor(estimators=estimators, final_estimator=LinearRegression())\n",
    "model.fit(X_train, y_train)\n",
    "test_predictions = model.predict(test)\n",
    "\n",
    "# Prepare the submission file\n",
    "submission = pd.DataFrame({\n",
    "    'Id': test_ids,\n",
    "    'SalePrice': test_predictions\n",
    "})\n",
    "submission.to_csv('submission_stacking.csv', index=False)\n"
   ],
   "id": "7ac9ebac74440099",
   "outputs": [],
   "execution_count": 38
  },
  {
   "metadata": {},
   "cell_type": "code",
   "outputs": [],
   "execution_count": null,
   "source": "",
   "id": "898296cc24669ad9"
  }
 ],
 "metadata": {
  "kernelspec": {
   "display_name": "Python 3",
   "language": "python",
   "name": "python3"
  },
  "language_info": {
   "codemirror_mode": {
    "name": "ipython",
    "version": 2
   },
   "file_extension": ".py",
   "mimetype": "text/x-python",
   "name": "python",
   "nbconvert_exporter": "python",
   "pygments_lexer": "ipython2",
   "version": "2.7.6"
  }
 },
 "nbformat": 4,
 "nbformat_minor": 5
}
